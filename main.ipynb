{
 "cells": [
  {
   "cell_type": "markdown",
   "metadata": {},
   "source": [
    "## 1、环境配置"
   ]
  },
  {
   "cell_type": "code",
   "execution_count": null,
   "metadata": {
    "collapsed": false,
    "jupyter": {
     "outputs_hidden": false
    },
    "scrolled": true
   },
   "outputs": [],
   "source": [
    "# 克隆paddleSeg的github仓库\n",
    "!git clone https://gitee.com/paddlepaddle/PaddleSeg.git\n",
    "!pip install -r PaddleSeg/requirements.txt"
   ]
  },
  {
   "cell_type": "markdown",
   "metadata": {},
   "source": [
    "## 2、数据准备"
   ]
  },
  {
   "cell_type": "code",
   "execution_count": null,
   "metadata": {
    "collapsed": false,
    "jupyter": {
     "outputs_hidden": false
    },
    "scrolled": true
   },
   "outputs": [],
   "source": [
    "# 解压数据集\n",
    "!mkdir ~/PaddleSeg/datasets\n",
    "!unzip -q data/data77571/train_and_label.zip -d ~/PaddleSeg/datasets\n",
    "!unzip -q data/data77571/img_test.zip -d ~/PaddleSeg/datasets"
   ]
  },
  {
   "cell_type": "markdown",
   "metadata": {},
   "source": [
    "## 3、数据预处理"
   ]
  },
  {
   "cell_type": "markdown",
   "metadata": {},
   "source": [
    "### （1）数据集划分模块"
   ]
  },
  {
   "cell_type": "code",
   "execution_count": null,
   "metadata": {
    "collapsed": false,
    "jupyter": {
     "outputs_hidden": false
    },
    "scrolled": true
   },
   "outputs": [],
   "source": [
    "import numpy as np\n",
    "import os\n",
    "os.chdir('/home/aistudio/PaddleSeg/datasets/')\n",
    "\n",
    "datas = []\n",
    "image_base = 'img_train'   # 训练集原图路径\n",
    "annos_base = 'lab_train'   # 训练集标签路径\n",
    "\n",
    "# 读取原图文件名\n",
    "ids_ = [v.split('.')[0] for v in os.listdir(image_base)]\n",
    "\n",
    "# 将训练集的图像集和标签路径写入datas中\n",
    "for id_ in ids_:\n",
    "    img_pt0 = os.path.join(image_base, '{}.jpg'.format(id_))\n",
    "    img_pt1 = os.path.join(annos_base, '{}.png'.format(id_))\n",
    "    datas.append((img_pt0.replace('/home/aistudio', ''), img_pt1.replace('/home/aistudio', '')))\n",
    "    if os.path.exists(img_pt0) and os.path.exists(img_pt1):\n",
    "        pass\n",
    "    else:\n",
    "        raise \"path invalid!\"\n",
    "\n",
    "# 打印datas的长度和具体存储例子\n",
    "print('total:', len(datas))\n",
    "print(datas[0][0])\n",
    "print(datas[0][1])\n",
    "print(datas[10][:])"
   ]
  },
  {
   "cell_type": "markdown",
   "metadata": {},
   "source": [
    "### （2）划分数据集"
   ]
  },
  {
   "cell_type": "code",
   "execution_count": null,
   "metadata": {
    "collapsed": false,
    "jupyter": {
     "outputs_hidden": false
    },
    "scrolled": true
   },
   "outputs": [],
   "source": [
    "import cv2\n",
    "import numpy as np\n",
    "import os\n",
    "os.chdir('/home/aistudio/PaddleSeg/datasets/')\n",
    "# 四类标签，这里用处不大，比赛评测是以0、1、2、3类来对比评测的\n",
    "labels = ['建筑', '耕地', '林地', '其他']\n",
    "\n",
    "# 将labels写入标签文件\n",
    "with open('labels.txt', 'w') as f:\n",
    "    for v in labels:\n",
    "        f.write(v+'\\n')\n",
    "\n",
    "# 随机打乱datas\n",
    "np.random.seed(3407)\n",
    "np.random.shuffle(datas)\n",
    "\n",
    "# 验证集与训练集的划分，0.05表示5%为验证集，95%为训练集\n",
    "split_num = int(0.05*len(datas))\n",
    "\n",
    "# 划分训练集和验证集\n",
    "train_data = datas[:-split_num]\n",
    "valid_data = datas[-split_num:]\n",
    "\n",
    "# 写入训练集list\n",
    "with open('train_list.txt', 'w') as f:\n",
    "    for img, lbl in train_data:\n",
    "        f.write(img + ' ' + lbl + '\\n')\n",
    "\n",
    "# 写入验证集list\n",
    "with open('val_list.txt', 'w') as f:\n",
    "    for img, lbl in valid_data:\n",
    "        # 进行数据清洗，数据验证过程中，对于全为255的图像直接忽略\n",
    "        clean = cv2.imread(lbl)\n",
    "        if (clean == 255).all():\n",
    "            continue\n",
    "        f.write(img + ' ' + lbl + '\\n')\n",
    "\n",
    "# 打印训练集和测试集大小\n",
    "print('train:', len(train_data))\n",
    "print('valid:', len(valid_data))"
   ]
  },
  {
   "cell_type": "markdown",
   "metadata": {},
   "source": [
    "### （3）分析数据类别样本数量"
   ]
  },
  {
   "cell_type": "code",
   "execution_count": null,
   "metadata": {
    "collapsed": false,
    "jupyter": {
     "outputs_hidden": false
    },
    "scrolled": true,
    "tags": []
   },
   "outputs": [],
   "source": [
    "import cv2\n",
    "import numpy as np\n",
    "\n",
    "NUM_CLASSES = 4\n",
    "\n",
    "area = {i : 0 for i in range(NUM_CLASSES)}\n",
    "area_proportion = {i : {0 : 0, 1 : 0, 2 : 0, 3 : 0} for i in range(NUM_CLASSES)}\n",
    "area[255] = 0\n",
    "image_num = 0\n",
    "\n",
    "def calc(image, num_classes=NUM_CLASSES):\n",
    "    label_image = np.array(image)\n",
    "    for cls in range(num_classes):\n",
    "        area[cls] += np.count_nonzero(label_image == cls)\n",
    "    area[255] += np.count_nonzero(label_image == 255)\n",
    "\n",
    "def area_calc(image, num_classes=NUM_CLASSES):\n",
    "    label_image = np.array(image)\n",
    "    image_area = label_image.shape[0] * label_image.shape[1]\n",
    "    for cls in range(num_classes):\n",
    "        proportion = np.count_nonzero(label_image == cls) / float(image_area)\n",
    "        if proportion < 0.01:\n",
    "            area_proportion[cls][0] += 1\n",
    "        elif proportion < 0.02:\n",
    "            area_proportion[cls][1] += 1\n",
    "        elif proportion < 0.8:\n",
    "            area_proportion[cls][2] += 1\n",
    "        else:\n",
    "            area_proportion[cls][3] += 1\n",
    "\n",
    "\n",
    "# 统计四种类型的面积占比\n",
    "train_file_dir = '/home/aistudio/PaddleSeg/datasets/train_list.txt'\n",
    "val_file_dir = '/home/aistudio/PaddleSeg/datasets/val_list.txt'\n",
    "with open(train_file_dir, 'r') as f:\n",
    "    for line in f.readlines():\n",
    "        if image_num % 5000 == 0:\n",
    "            print(\"当前已读取\"+str(image_num)+\"个样本，进度为 \"+str(100*image_num/len(os.listdir(\"img_train\"))/0.95)+\"%\")\n",
    "        label_dir = line.split()[1]\n",
    "        image_label = cv2.imread(label_dir, cv2.IMREAD_GRAYSCALE)\n",
    "        calc(image_label)\n",
    "        area_calc(image_label)\n",
    "        image_num += 1\n",
    "\n",
    "\n",
    "for cls in range(NUM_CLASSES):\n",
    "    area[cls] = area[cls] / (image_num * 256.0 * 256.0)\n",
    "area[255] = area[255] / (image_num * 256.0 * 256.0)\n",
    "print(area)\n",
    "print(area_proportion)\n",
    "\n",
    "\n",
    "#参考https://aistudio.baidu.com/aistudio/projectdetail/4556036"
   ]
  },
  {
   "cell_type": "markdown",
   "metadata": {},
   "source": [
    "![](https://ai-studio-static-online.cdn.bcebos.com/ee21bcfab01c49e3a087e4e097f4d4e9fcf80f73f0df4e79ba9682196d28bb65)"
   ]
  },
  {
   "cell_type": "markdown",
   "metadata": {},
   "source": [
    "### （4）对已划分的数据集进行重采样\n",
    "**在训练过程中发现第三类mIoU明显低于其他类别，并且发现第一类和第三类非常相似，考虑对第三类进行重采样，并进行额外的数据增强。**"
   ]
  },
  {
   "cell_type": "code",
   "execution_count": null,
   "metadata": {
    "scrolled": true,
    "tags": []
   },
   "outputs": [],
   "source": [
    "import cv2\n",
    "import numpy as np\n",
    "import os\n",
    "import shutil\n",
    "os.chdir('/home/aistudio/PaddleSeg/datasets/')\n",
    "\n",
    "PROB = 0.1  #重采样概率\n",
    "\n",
    "with open('train_list.txt', 'r') as f:  #把txt写入list中\n",
    "    lines = f.readlines()\n",
    "\n",
    "#如果发现类别3存在于img中，那么把该图像的位置在train_list里复制一次\n",
    "with open('train_list.txt', 'a+') as f:\n",
    "    index = 0\n",
    "    count = 0\n",
    "    samp_count = 0\n",
    "    for line in lines:\n",
    "        if index % 5000 == 0:\n",
    "            print(\"当前已读取\"+str(index)+\"个样本，进度为 \"+str(100*index/len(lines))+\"%\")\n",
    "        label_dir = line.split()[1]\n",
    "        train_dir = line.split()[0]\n",
    "        image_label = cv2.imread(label_dir, cv2.IMREAD_GRAYSCALE)\n",
    "        if 3 in image_label[0]:\n",
    "            img = cv2.imread(train_dir, cv2.IMREAD_COLOR)\n",
    "            count += 1\n",
    "            if np.random.random()<PROB:\n",
    "                f.write(\"\\n\"+\"img_train/T{}.jpg\".format(\"RE\"+str(index))+' '+\"lab_train/T{}.png\".format(\"RE\"+str(index)))\n",
    "                rand_rotate = np.random.randint(0,3)\n",
    "                img_t = cv2.rotate(cv2.bilateralFilter(img, 9, 75, 75), rand_rotate) #随机旋转并且进行双边模糊\n",
    "                lab_t = cv2.rotate(image_label, rand_rotate)\n",
    "                cv2.imwrite(\"img_train/T{}.jpg\".format(\"RE\"+str(index)),img_t)\n",
    "                cv2.imwrite(\"lab_train/T{}.png\".format(\"RE\"+str(index)),lab_t)\n",
    "                samp_count += 1\n",
    "        index += 1\n",
    "\n",
    "print(\"对含有该类的图像数量为：\", count)\n",
    "print(\"对含有该类的图像并进行重采样的数量为：\", samp_count)"
   ]
  },
  {
   "cell_type": "markdown",
   "metadata": {},
   "source": [
    "**第二类和第三类的像素点数量都一样少，但第三类的mIoU更低\n",
    "猜想可能是数量最多第一类影响了第三类的mIoU**\n",
    "\n",
    "**若同时对第二类进行重采样，mIoU略微下降**"
   ]
  },
  {
   "cell_type": "markdown",
   "metadata": {},
   "source": [
    "![](https://ai-studio-static-online.cdn.bcebos.com/29b2de03209e4d8e9efcf654d5f6e31535ee14220425445391199fe40ca378b3)\n"
   ]
  },
  {
   "cell_type": "markdown",
   "metadata": {},
   "source": [
    "## 5、模型训练"
   ]
  },
  {
   "cell_type": "markdown",
   "metadata": {},
   "source": [
    "![](https://ai-studio-static-online.cdn.bcebos.com/d3da1d6ef87945a287e71e8287134bcfe5542dee7139402cb5f602097ba5ad54)\n"
   ]
  },
  {
   "cell_type": "code",
   "execution_count": null,
   "metadata": {
    "scrolled": true,
    "tags": []
   },
   "outputs": [],
   "source": [
    "%cd ~/PaddleSeg\n",
    "! python train.py \\\n",
    "       --config configs/segformer/segformer_b2_cityscapes_1024x1024_160k.yml \\  #使用的训练配置\n",
    "       --save_interval 2000 \\  #每多少iterations保存一次模型\n",
    "       --use_vdl \\  #保存可视化数据\n",
    "       --log_iters 50 \\  #每多少iterations打印一次当前训练信息\n",
    "       --save_dir output/special \\  #保存地址\n",
    "       --do_eval \\  #每次模型保存前进行一次评估\n",
    "#       --resume_model output/special/iter_10000 \\  #继续训练模型"
   ]
  },
  {
   "cell_type": "markdown",
   "metadata": {},
   "source": [
    "![](https://ai-studio-static-online.cdn.bcebos.com/13bf511388ef49a483c81b1bfd7377346765b873a93e462b99764b181553f893)\n",
    "![](https://ai-studio-static-online.cdn.bcebos.com/78d828460d4c4871bdb542d950630af8b4d73e777fca4dcda4eedaf05d0e11d8)\n"
   ]
  },
  {
   "cell_type": "markdown",
   "metadata": {},
   "source": [
    "### **逃离鞍点的方法**\n",
    "**测试出造成梯度爆炸最低学习率lr1（50iters内loss＞5），将模型学习率调整至0.8*lr1训练直到loss大于原先loss的2倍后恢复正常训练。**"
   ]
  },
  {
   "cell_type": "markdown",
   "metadata": {},
   "source": [
    "## 6、模型评估"
   ]
  },
  {
   "cell_type": "code",
   "execution_count": null,
   "metadata": {
    "collapsed": false,
    "jupyter": {
     "outputs_hidden": false
    },
    "scrolled": true,
    "tags": []
   },
   "outputs": [],
   "source": [
    "# 模型评估\n",
    "%cd ~/PaddleSeg\n",
    "! python val.py \\\n",
    "       --config configs/segformer/segformer_b2_cityscapes_1024x1024_160k.yml \\\n",
    "       --model_path output/resegformer/iter_480000/model.pdparams"
   ]
  },
  {
   "cell_type": "markdown",
   "metadata": {},
   "source": [
    "![](https://ai-studio-static-online.cdn.bcebos.com/5691eeaecda0442ea37c877469ab242e10d3fe7974ce45ffaa5794afced523f6)\n"
   ]
  },
  {
   "cell_type": "markdown",
   "metadata": {},
   "source": [
    "## 7、测试结果"
   ]
  },
  {
   "cell_type": "code",
   "execution_count": null,
   "metadata": {
    "collapsed": false,
    "jupyter": {
     "outputs_hidden": false
    },
    "scrolled": true
   },
   "outputs": [],
   "source": [
    "# 测试集预测\n",
    "%cd ~/PaddleSeg\n",
    "!python predict.py \\\n",
    "       --config configs/segformer/segformer_b2_cityscapes_1024x1024_160k.yml \\\n",
    "       --model_path output/special/iter_608000/model.pdparams \\\n",
    "       --image_path datasets/img_testA \\\n",
    "       --save_dir result"
   ]
  },
  {
   "cell_type": "code",
   "execution_count": null,
   "metadata": {
    "collapsed": false,
    "jupyter": {
     "outputs_hidden": false
    },
    "scrolled": true
   },
   "outputs": [],
   "source": [
    "# 由预测结果生成提交文件\n",
    "%cd ~/PaddleSeg\n",
    "!zip -r result.zip result/"
   ]
  },
  {
   "cell_type": "markdown",
   "metadata": {},
   "source": [
    "![](https://ai-studio-static-online.cdn.bcebos.com/5bc884da0d514ec3902c21a4dfebffb8d581edd09ceb42219ec5c8ea6f4e04f0)\n"
   ]
  },
  {
   "cell_type": "markdown",
   "metadata": {},
   "source": [
    "## 8、基于结果的多模型融合（目前仍存bug）"
   ]
  },
  {
   "cell_type": "markdown",
   "metadata": {},
   "source": [
    "### **result评分时异常，但可能会涨点**"
   ]
  },
  {
   "cell_type": "code",
   "execution_count": null,
   "metadata": {
    "scrolled": true,
    "tags": []
   },
   "outputs": [],
   "source": [
    "!mkdir ~/work/results/merge_result\n",
    "!mkdir ~/work/results/merge_result/pseudo_color_prediction\n",
    "!mkdir ~/work/results/merge_result/added_prediction"
   ]
  },
  {
   "cell_type": "code",
   "execution_count": null,
   "metadata": {
    "scrolled": true,
    "tags": []
   },
   "outputs": [],
   "source": [
    "import cv2\n",
    "import numpy as np\n",
    "import os\n",
    "import shutil\n",
    "os.chdir('/home/aistudio/work/results/')\n",
    "\n",
    "p = 0.1\n",
    "index = 0\n",
    "\n",
    "for f in os.listdir(\"result-segformerb2-65.09/added_prediction\"):\n",
    "\n",
    "    # time_start = time.clock()\n",
    "    \n",
    "    if index % 10 == 0:\n",
    "        print(\"当前已读取\"+str(index)+\"个样本，进度为 \"+str(100*index/len(os.listdir(\"result-segformerb2-65.09/added_prediction\")))+\"%\")\n",
    "    file_name = f.split(\".\")[0]\n",
    "    color_map1 = cv2.imread(\"result-segformerb2-65.09/pseudo_color_prediction/{}.png\".format(file_name), cv2.IMREAD_COLOR)\n",
    "    color_map2 = cv2.imread(\"result-segformerb2-66.24/pseudo_color_prediction/{}.png\".format(file_name), cv2.IMREAD_COLOR)\n",
    "    color_map3 = cv2.imread(\"result-segformerb3/pseudo_color_prediction/{}.png\".format(file_name), cv2.IMREAD_COLOR)\n",
    "    add1 = cv2.imread(\"result-segformerb2-65.09/added_prediction/{}.jpg\".format(file_name), cv2.IMREAD_COLOR)\n",
    "    add2 = cv2.imread(\"result-segformerb2-66.24/added_prediction/{}.jpg\".format(file_name), cv2.IMREAD_COLOR)\n",
    "    add3 = cv2.imread(\"result-segformerb3/added_prediction/{}.jpg\".format(file_name), cv2.IMREAD_COLOR)\n",
    "\n",
    "    for i in range(256):\n",
    "        for j in range(256):\n",
    "            if (color_map2[i][j] == color_map3[i][j]).all():\n",
    "                color_map1[i][j] = color_map2[i][j]\n",
    "                add1[i][j] = add2[i][j]\n",
    "\n",
    "    cv2.imwrite(\"merge_result/pseudo_color_prediction/{}.png\".format(file_name).format(\"RE\"+str(index)), color_map1)\n",
    "    cv2.imwrite(\"merge_result/added_prediction/{}.jpg\".format(file_name), add1)\n",
    "\n",
    "    index += 1\n",
    "\n",
    "    # time_end = time.clock()\n",
    "    # tim = time_end - time_start\n",
    "    # minute = tim % 60\n",
    "    # sec = tim - 60*minute\n",
    "    # print(\"ETA: {}:{}\".format(minute, sec))"
   ]
  },
  {
   "cell_type": "markdown",
   "metadata": {},
   "source": [
    "## 9、总结"
   ]
  },
  {
   "cell_type": "markdown",
   "metadata": {},
   "source": [
    "![](https://ai-studio-static-online.cdn.bcebos.com/29b829a18a524f288d960b99b87fe027112ebafd530945d3bc5b3346a1cd2ff5)\n"
   ]
  },
  {
   "cell_type": "markdown",
   "metadata": {},
   "source": [
    "### 项目作者\n",
    "\n",
    "> 赵祎安 大连理工大学 计算机科学与技术 2019级 大工飞桨领航团团长\n",
    "\n",
    "> modified by Friman 吴玮彤 大连理工大学 电子信息类（创新班） 2022级"
   ]
  }
 ],
 "metadata": {
  "kernelspec": {
   "display_name": "Python 3",
   "language": "python",
   "name": "py35-paddle1.2.0"
  },
  "language_info": {
   "codemirror_mode": {
    "name": "ipython",
    "version": 3
   },
   "file_extension": ".py",
   "mimetype": "text/x-python",
   "name": "python",
   "nbconvert_exporter": "python",
   "pygments_lexer": "ipython3",
   "version": "3.7.4"
  }
 },
 "nbformat": 4,
 "nbformat_minor": 4
}
